{
 "cells": [
  {
   "cell_type": "markdown",
   "metadata": {},
   "source": [
    "# Python 5: Exceptions & Automation Testing"
   ]
  },
  {
   "cell_type": "markdown",
   "metadata": {},
   "source": [
    "### Try"
   ]
  },
  {
   "cell_type": "code",
   "execution_count": null,
   "metadata": {},
   "outputs": [],
   "source": [
    "try:\n",
    "    with open('foo.txt') as f:\n",
    "        data = f.read()\n",
    "        print(data)\n",
    "except:\n",
    "    pass"
   ]
  },
  {
   "cell_type": "markdown",
   "metadata": {},
   "source": [
    "### Except"
   ]
  },
  {
   "cell_type": "code",
   "execution_count": null,
   "metadata": {},
   "outputs": [],
   "source": [
    "try:\n",
    "    with open('bar.txt') as f:\n",
    "        data = f.read()\n",
    "        print(data)\n",
    "except FileNotFoundError as e:\n",
    "    print(e)"
   ]
  },
  {
   "cell_type": "markdown",
   "metadata": {},
   "source": [
    "### Finally"
   ]
  },
  {
   "cell_type": "code",
   "execution_count": null,
   "metadata": {},
   "outputs": [],
   "source": [
    "try:\n",
    "    with open('foo.txt') as f:\n",
    "        data = f.read()\n",
    "        print(data)\n",
    "except FileNotFoundError as e:\n",
    "    print(e)\n",
    "finally:\n",
    "    print('Cleanup')"
   ]
  },
  {
   "cell_type": "markdown",
   "metadata": {},
   "source": [
    "### Unit Testing"
   ]
  },
  {
   "cell_type": "code",
   "execution_count": null,
   "metadata": {},
   "outputs": [],
   "source": [
    "from unittest import TestCase, main\n",
    "\n",
    "class Person:\n",
    "    def __init__(self, first_name, last_name, age):\n",
    "        self.first_name = first_name\n",
    "        self.last_name = last_name\n",
    "        self.age = age\n",
    "\n",
    "    def is_legal(self):\n",
    "        return True if self.age >= 18 else False\n",
    "\n",
    "class TestPerson(TestCase):\n",
    "    def setUp(self):\n",
    "        self.person_one = Person('John', 'Doe', 25)\n",
    "        self.person_two = Person('Jane', 'Doe', 5)\n",
    "        \n",
    "    def test_first_name(self):\n",
    "        self.assertEqual('John', self.person_one.first_name)\n",
    "\n",
    "    def test_is_legal(self):\n",
    "        self.assertTrue(self.person_one.is_legal())\n",
    "\n",
    "    def test_is_not_legal(self):\n",
    "        self.assertFalse(self.person_two.is_legal())\n",
    "\n",
    "    def tearDown(self):\n",
    "        self.person_one = None\n",
    "        self.person_two = None\n",
    "\n",
    "if __name__ == '__main__':\n",
    "     main(argv=[''], verbosity=2, exit=False)"
   ]
  },
  {
   "cell_type": "markdown",
   "metadata": {},
   "source": [
    "### Selenium Python"
   ]
  },
  {
   "cell_type": "code",
   "execution_count": null,
   "metadata": {},
   "outputs": [],
   "source": [
    "pip install selenium"
   ]
  },
  {
   "cell_type": "code",
   "execution_count": null,
   "metadata": {},
   "outputs": [],
   "source": [
    "from unittest import TestCase, main\n",
    "from selenium import webdriver\n",
    "from selenium.webdriver.common.keys import Keys\n",
    "\n",
    "class TestPythonOrgSearch(TestCase):\n",
    "    def setUp(self):\n",
    "        self.driver = webdriver.Chrome('chromedriver')\n",
    "        self.driver.get('https://www.python.org')\n",
    "\n",
    "    def test_python_org_search(self):\n",
    "        self.assertTrue('Python' in self.driver.title)\n",
    "        elem = self.driver.find_element_by_name('q')\n",
    "        elem.clear()\n",
    "        elem.send_keys('pycon')\n",
    "        elem.send_keys(Keys.RETURN)\n",
    "        self.assertTrue('No results found.' not in self.driver.page_source)\n",
    "\n",
    "    def tearDown(self):\n",
    "        self.driver.close()\n",
    "\n",
    "if __name__ == '__main__':\n",
    "    main(argv=[''], verbosity=2, exit=False)"
   ]
  }
 ],
 "metadata": {
  "kernelspec": {
   "display_name": "Python 3",
   "language": "python",
   "name": "python3"
  },
  "language_info": {
   "codemirror_mode": {
    "name": "ipython",
    "version": 3
   },
   "file_extension": ".py",
   "mimetype": "text/x-python",
   "name": "python",
   "nbconvert_exporter": "python",
   "pygments_lexer": "ipython3",
   "version": "3.7.3"
  }
 },
 "nbformat": 4,
 "nbformat_minor": 2
}
