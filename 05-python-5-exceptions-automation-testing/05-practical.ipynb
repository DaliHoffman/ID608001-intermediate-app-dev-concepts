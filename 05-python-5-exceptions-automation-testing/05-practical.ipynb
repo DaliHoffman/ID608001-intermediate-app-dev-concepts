{
 "cells": [
  {
   "cell_type": "markdown",
   "metadata": {},
   "source": [
    "##### College of Engineering, Construction and Living Sciences<br>Bachelor of Information Technology<br>IN608: Intermediate Application Development Concepts<br>Level 6, Credits 15\n",
    "\n",
    "# Python 5: Exceptions & Automation Testing\n",
    "\n",
    "In this practical, you will complete a series of tasks covering today's lecture.\n",
    "\n",
    "## <ins>Programming Activity</ins>\n",
    "\n",
    "### Exceptions - FloatingPointError\n",
    "**Question 1:** Describe  what causes an `FloatingPointError` exception to be raised."
   ]
  },
  {
   "cell_type": "code",
   "execution_count": null,
   "metadata": {},
   "outputs": [],
   "source": [
    "# Write your explanation here"
   ]
  },
  {
   "cell_type": "markdown",
   "metadata": {},
   "source": [
    "### Exceptions - ImportError\n",
    "**Question 2:** Describe what causes an `ImportError` exception to be raised."
   ]
  },
  {
   "cell_type": "code",
   "execution_count": null,
   "metadata": {},
   "outputs": [],
   "source": [
    "# Write your explanation here"
   ]
  },
  {
   "cell_type": "markdown",
   "metadata": {},
   "source": [
    "### Exceptions - OSError\n",
    "**Question 3:** Describe what causes an `OSError` exception to be raised."
   ]
  },
  {
   "cell_type": "code",
   "execution_count": null,
   "metadata": {},
   "outputs": [],
   "source": [
    "# Write your explanation here"
   ]
  },
  {
   "cell_type": "markdown",
   "metadata": {},
   "source": [
    "### Exceptions - OverflowError\n",
    "**Question 4:** Describe what causes an `OverflowError` exception to be raised."
   ]
  },
  {
   "cell_type": "code",
   "execution_count": null,
   "metadata": {},
   "outputs": [],
   "source": [
    "# Write your explanation here"
   ]
  },
  {
   "cell_type": "markdown",
   "metadata": {},
   "source": [
    "## <ins>Homework</ins>\n",
    "\n",
    "### Unit Testing\n",
    "**Question 5:** `Stack` class has one class attribute & six class methods. For each method, create a unit test. Use `TestStack` test case class provided to display the expected output."
   ]
  },
  {
   "cell_type": "code",
   "execution_count": null,
   "metadata": {},
   "outputs": [],
   "source": [
    "from unittest import main, TestCase\n",
    "\n",
    "class Stack:\n",
    "    def __init__(self):\n",
    "        self.stack = []\n",
    "\n",
    "    def push(self, item):\n",
    "        self.stack.append(item)\n",
    "\n",
    "    def pop(self):\n",
    "        if not self.is_empty():\n",
    "            return self.stack.pop()\n",
    "\n",
    "    def peek(self):\n",
    "        if not self.is_empty ():\n",
    "            return self.stack[-1]\n",
    "    \n",
    "    def is_empty(self):\n",
    "        return len(self.stack) == 0\n",
    "          \n",
    "    def size(self):\n",
    "        return len(self.stack)\n",
    "    \n",
    "    def display(self):\n",
    "        if not self.is_empty():\n",
    "            return self.stack\n",
    "        \n",
    "class TestStack(TestCase):\n",
    "    def setUp(self):\n",
    "        self.stack = Stack()\n",
    "        self.stack.push('Introductory App Dev Concepts')\n",
    "        self.stack.push('Intermediate App Dev Concepts')\n",
    "        self.stack.push('Advanced App Dev Concepts')\n",
    "    \n",
    "    def test_stack_push(self):\n",
    "        pass\n",
    "    \n",
    "    def test_stack_pop(self):\n",
    "        pass\n",
    "    \n",
    "    def test_stack_peek(self):\n",
    "        pass\n",
    "    \n",
    "    def test_stack_is_empty(self):\n",
    "        pass\n",
    "    \n",
    "    def test_stack_size(self):\n",
    "        pass\n",
    "    \n",
    "    def test_stack_display(self):\n",
    "        pass\n",
    "\n",
    "    def tearDown(self):\n",
    "        self.stack = None\n",
    "\n",
    "if __name__ == '__main__':\n",
    "    main(argv=[''], verbosity=2, exit=False)\n",
    "\n",
    "# Expected output:\n",
    "\n",
    "# test_stack_push (__main__.TestStack) ... ok\n",
    "# test_stack_pop (__main__.TestStack) ... ok\n",
    "# test_stack_peek (__main__.TestStack) ... ok\n",
    "# test_stack_is_empty (__main__.TestStack) ... ok\n",
    "# test_stack_size (__main__.TestStack) ... ok\n",
    "# test_stack_display (__main__.TestStack) ... ok"
   ]
  },
  {
   "cell_type": "markdown",
   "metadata": {},
   "source": [
    "**Question 6:** `Queue` class has one class attribute & six class methods. Use `TestQueue` test case class provided to display the expected output."
   ]
  },
  {
   "cell_type": "code",
   "execution_count": null,
   "metadata": {},
   "outputs": [],
   "source": [
    "from unittest import main, TestCase\n",
    "\n",
    "class Queue():        \n",
    "    def __init__(self):\n",
    "        self.queue = []\n",
    "\n",
    "    def enqueue(self, item):\n",
    "        self.queue.insert(0, item)\n",
    "\n",
    "    def dequeue(self):\n",
    "        if not self.is_empty():\n",
    "            return self.queue.pop()\n",
    "\n",
    "    def peek(self):\n",
    "        if not self.is_empty ():\n",
    "            return self.queue[-1]\n",
    "    \n",
    "    def is_empty(self):\n",
    "        return len(self.queue) == 0\n",
    "    \n",
    "    def size(self):\n",
    "        return len(self.queue)\n",
    "    \n",
    "    def display(self):\n",
    "        if not self.is_empty():\n",
    "            return self.queue\n",
    "\n",
    "class TestQueue(TestCase):\n",
    "    def setUp(self):\n",
    "        self.queue = Queue()\n",
    "        self.queue.enqueue('Introductory App Dev Concepts')\n",
    "        self.queue.enqueue('Intermediate App Dev Concepts')\n",
    "        self.queue.enqueue('Advanced App Dev Concepts')\n",
    "\n",
    "    def test_queue_enqueue(self):\n",
    "        pass\n",
    "    \n",
    "    def test_queue_dequeue(self):\n",
    "        pass\n",
    "    \n",
    "    def test_queue_peek(self):\n",
    "        pass\n",
    "    \n",
    "    def test_queue_is_empty(self):\n",
    "        pass\n",
    "    \n",
    "    def test_queue_size(self):\n",
    "        pass\n",
    "    \n",
    "    def test_queue_display(self):\n",
    "        pass\n",
    "\n",
    "    def tearDown(self):\n",
    "        self.queue = None\n",
    "\n",
    "if __name__ == '__main__':\n",
    "    main(argv=[''], verbosity=2, exit=False)\n",
    "\n",
    "# Expected output:\n",
    "\n",
    "# test_queue_enqueue (__main__.TestQueue) ... ok\n",
    "# test_queue_dequeue (__main__.TestQueue) ... ok\n",
    "# test_queue_peek (__main__.TestQueue) ... ok\n",
    "# test_queue_is_empty (__main__.TestQueue) ... ok\n",
    "# test_queue_size (__main__.TestQueue) ... ok\n",
    "# test_queue_display (__main__.TestQueue) ... ok"
   ]
  },
  {
   "cell_type": "markdown",
   "metadata": {},
   "source": [
    "**Question 7:** Use `TestAPI` test case class provided to test the following:\n",
    "* Check if the key `Name` equals `Diamond`\n",
    "* Check if the key `CanRelist` is true\n",
    "* Check if an object in the key `Charities` contains:\n",
    "    \n",
    "    * The key `Description` & the value `St John`\n",
    "    * The key `Tagline` & value `To support St John Christchurch`. Note: Use the `in` membership operator\n",
    "    \n",
    "Resource - https://2.python-requests.org/en/master/"
   ]
  },
  {
   "cell_type": "code",
   "execution_count": null,
   "metadata": {},
   "outputs": [],
   "source": [
    "from requests import get\n",
    "from unittest import main, TestCase\n",
    "\n",
    "class TestAPI(TestCase):\n",
    "    def setUp(self):\n",
    "        self.base_url = 'https://api.tmsandbox.co.nz/v1/Categories/4000/details.json'\n",
    "\n",
    "    def test_name_is_diamond(self):\n",
    "        pass\n",
    "\n",
    "    def test_can_relist_is_true(self):\n",
    "        pass\n",
    "\n",
    "    def test_description_and_tagline(self):\n",
    "        pass\n",
    "        \n",
    "    def tearDown(self):\n",
    "        self.base_url = None\n",
    "\n",
    "if __name__ == '__main__':\n",
    "    main(argv=[''], verbosity=2, exit=False)\n",
    "\n",
    "# Expected output:\n",
    "\n",
    "# test_name_is_diamond (__main__.TestAPI) ... ok\n",
    "# test_can_relist_is_true (__main__.TestAPI) ... ok\n",
    "# test_description_and_tagline (__main__.TestAPI) ... ok"
   ]
  },
  {
   "cell_type": "markdown",
   "metadata": {},
   "source": [
    "### Selenium Python\n",
    "**Task 8:** Use the ```TestStackOverflowSearch``` test case class and hints provided to display the expected output.\n",
    "\n",
    "Note: A ChromeDriver has been provided to you. If this ChromeDriver does not work, you will need to download a ChromeDriver which is compatible with your Chrome browser version. Drivers for Edge & Firefox are available.\n",
    "\n",
    "Resource: https://selenium-python.readthedocs.io/installation.html#drivers"
   ]
  },
  {
   "cell_type": "code",
   "execution_count": null,
   "metadata": {},
   "outputs": [],
   "source": [
    "from selenium import webdriver\n",
    "from selenium.webdriver.common.keys import Keys\n",
    "from unittest import main, TestCase\n",
    "\n",
    "class TestStackOverflowSearch(TestCase):\n",
    "    def setUp(self):\n",
    "        self.driver = webdriver.Chrome('''Path to ChromeDriver''')\n",
    "        # Navigate to https://stackoverflow.com/\n",
    "\n",
    "    def test_stack_overflow_search(self):\n",
    "        # Test if 'Stack Overflow - Where Developers Learn, Share, & Build Careers' is in the title\n",
    "        # Find the element by CSS selector - '#search > div > input'\n",
    "        # Type 'Rust' into the element\n",
    "        # Press the enter/return key\n",
    "        # Test if 'Search Results' is in the page source\n",
    "\n",
    "    def tearDown(self):\n",
    "        self.driver.close()\n",
    "\n",
    "if __name__ == '__main__':\n",
    "    main(argv=[''], verbosity=2, exit=False)\n",
    "\n",
    "# Expected output:\n",
    "\n",
    "# test_stack_overflow_search (__main__.TestStackOverflowSearch) ... ok"
   ]
  },
  {
   "cell_type": "markdown",
   "metadata": {},
   "source": [
    "# Submission\n",
    "1. Create a new branch named **05-practical** within your practicals GitHub repository\n",
    "2. Create a new pull request and assign **tclark** & **grayson-orr** to review your practical submission\n",
    "\n",
    "**Note:** Please don't merge your own pull request."
   ]
  }
 ],
 "metadata": {
  "kernelspec": {
   "display_name": "Python 3",
   "language": "python",
   "name": "python3"
  },
  "language_info": {
   "codemirror_mode": {
    "name": "ipython",
    "version": 3
   },
   "file_extension": ".py",
   "mimetype": "text/x-python",
   "name": "python",
   "nbconvert_exporter": "python",
   "pygments_lexer": "ipython3",
   "version": "3.7.5"
  }
 },
 "nbformat": 4,
 "nbformat_minor": 2
}
