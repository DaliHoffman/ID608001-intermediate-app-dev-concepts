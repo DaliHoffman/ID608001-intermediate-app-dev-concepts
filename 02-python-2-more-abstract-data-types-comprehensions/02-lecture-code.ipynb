{
 "cells": [
  {
   "cell_type": "markdown",
   "metadata": {},
   "source": [
    "# More Abstract Data Types"
   ]
  },
  {
   "cell_type": "markdown",
   "metadata": {},
   "source": [
    "## More Abstract Data Types"
   ]
  },
  {
   "cell_type": "markdown",
   "metadata": {},
   "source": [
    "### List as a Stack"
   ]
  },
  {
   "cell_type": "code",
   "execution_count": null,
   "metadata": {},
   "outputs": [],
   "source": [
    "stack = []\n",
    "print(stack)\n",
    "stack.append('apple')\n",
    "print(stack)\n",
    "stack.append('banana')\n",
    "print(stack)\n",
    "stack.append('cherry')\n",
    "print(stack)\n",
    "stack.pop()\n",
    "print(stack)\n",
    "stack.pop()\n",
    "print(stack)\n",
    "stack.pop()\n",
    "print(stack)"
   ]
  },
  {
   "cell_type": "markdown",
   "metadata": {},
   "source": [
    "### Stack Class"
   ]
  },
  {
   "cell_type": "code",
   "execution_count": null,
   "metadata": {},
   "outputs": [],
   "source": [
    "class Stack:\n",
    "    def __init__(self):\n",
    "        self.stack = []\n",
    "\n",
    "    def push(self, item):\n",
    "        pass\n",
    "\n",
    "    def pop(self):\n",
    "        pass\n",
    "\n",
    "    def peek(self):\n",
    "        pass\n",
    "    \n",
    "    def is_empty(self):\n",
    "        pass\n",
    "\n",
    "def main():\n",
    "    stack = Stack()\n",
    "\n",
    "if __name__ == '__main__':\n",
    "    main()"
   ]
  },
  {
   "cell_type": "markdown",
   "metadata": {},
   "source": [
    "### List as a Queue"
   ]
  },
  {
   "cell_type": "code",
   "execution_count": null,
   "metadata": {},
   "outputs": [],
   "source": [
    "from collections import deque\n",
    "queue = deque([])\n",
    "print(queue)\n",
    "queue.append('apple')\n",
    "print(queue)\n",
    "queue.append('banana')\n",
    "print(queue)\n",
    "queue.append('cherry')\n",
    "print(queue)\n",
    "queue.popleft()\n",
    "print(queue)\n",
    "queue.popleft()\n",
    "print(queue)\n",
    "queue.popleft()\n",
    "print(queue)"
   ]
  },
  {
   "cell_type": "markdown",
   "metadata": {},
   "source": [
    "### Queue"
   ]
  },
  {
   "cell_type": "code",
   "execution_count": null,
   "metadata": {},
   "outputs": [],
   "source": [
    "class Queue:\n",
    "    def __init__(self):\n",
    "        self.queue = []\n",
    "\n",
    "    def enqueue(self, item):\n",
    "        pass\n",
    "\n",
    "    def dequeue(self):\n",
    "        pass\n",
    "\n",
    "    def peek(self):\n",
    "        pass\n",
    "    \n",
    "    def is_empty(self):\n",
    "        pass\n",
    "\n",
    "def main():\n",
    "    queue = Queue()\n",
    "\n",
    "if __name__ == '__main__':\n",
    "    main()"
   ]
  },
  {
   "cell_type": "markdown",
   "metadata": {},
   "source": [
    "## Comprehension"
   ]
  },
  {
   "cell_type": "markdown",
   "metadata": {},
   "source": [
    "### List Comprehension"
   ]
  },
  {
   "cell_type": "code",
   "execution_count": null,
   "metadata": {},
   "outputs": [],
   "source": [
    "string = '123 Hi 456'\n",
    "numbers = []\n",
    "for s in string:\n",
    "    if s.isdigit():\n",
    "        numbers.append(int(s))\n",
    "print(numbers)\n",
    "\n",
    "string = '123 Hi 456'\n",
    "numbers = [int(s) for s in string if s.isdigit()]\n",
    "print(numbers)"
   ]
  },
  {
   "cell_type": "markdown",
   "metadata": {},
   "source": [
    "### Set Comprehension"
   ]
  },
  {
   "cell_type": "code",
   "execution_count": null,
   "metadata": {},
   "outputs": [],
   "source": [
    "class Cat:\n",
    "    def __init__(self, breed, is_active):\n",
    "        self.breed = breed\n",
    "        self.is_active = is_active\n",
    "\n",
    "def main():\n",
    "    cats = [\n",
    "        Cat('Birman', True),\n",
    "        Cat('Birman', True),\n",
    "        Cat('Maine Coon', False),\n",
    "        Cat('Persian', False),\n",
    "        Cat('Ragdoll', False),\n",
    "        Cat('Siamese', True)\n",
    "    ]\n",
    "    active_cats = {c.breed for c in cats if c.is_active}\n",
    "    print(active_cats)\n",
    "\n",
    "if __name__ == '__main__':\n",
    "    main()"
   ]
  },
  {
   "cell_type": "markdown",
   "metadata": {},
   "source": [
    "### Dictionary Comprehension"
   ]
  },
  {
   "cell_type": "code",
   "execution_count": null,
   "metadata": {},
   "outputs": [],
   "source": [
    "fruit_price = {'apple': 0.89, 'banana': 0.75, 'orange': 0.60, 'pineapple': 3.50}\n",
    "double_fruit_price = {}\n",
    "for (k, v) in fruit_price.items():\n",
    "    double_fruit_price[k] = v * 2\n",
    "print(double_fruit_price)\n",
    "\n",
    "fruit_price = {'apple': 0.89, 'banana': 0.75, 'orange': 0.60, 'pineapple': 3.50}\n",
    "double_fruit_price = {k: v * 2 for (k, v) in fruit_price.items()}\n",
    "print(double_fruit_price)"
   ]
  }
 ],
 "metadata": {
  "kernelspec": {
   "display_name": "Python 3",
   "language": "python",
   "name": "python3"
  },
  "language_info": {
   "codemirror_mode": {
    "name": "ipython",
    "version": 3
   },
   "file_extension": ".py",
   "mimetype": "text/x-python",
   "name": "python",
   "nbconvert_exporter": "python",
   "pygments_lexer": "ipython3",
   "version": "3.7.3"
  }
 },
 "nbformat": 4,
 "nbformat_minor": 2
}
