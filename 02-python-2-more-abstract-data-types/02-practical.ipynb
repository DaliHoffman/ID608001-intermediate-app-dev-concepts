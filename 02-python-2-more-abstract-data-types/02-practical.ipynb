{
 "cells": [
  {
   "cell_type": "markdown",
   "metadata": {},
   "source": [
    "##### College of Engineering, Construction and Living Sciences<br>Bachelor of Information Technology<br>IN608: Intermediate Application Development Concepts<br>Level 6, Credits 15<br><br>Due Date: 05/08/2020 at 5pm\n",
    "\n",
    "# Python 2: More Abstract Data Types\n",
    "\n",
    "In this practical, you will complete a series of tasks covering today's lecture. This practical is worth 0.5% of the final mark for the IN608: Intermediate Application Development Concepts course.\n",
    "\n",
    "Before you start, in your practicals repository, create a new branch called **02-practical**.\n",
    "\n",
    "## <ins>Programming Activity</ins>\n",
    "\n",
    "### Stack Class\n",
    "**Question 1:** Implement the `push`, `pop`, `peek`, `size` & `display` methods in the `Stack` class. `size` method returns the length of `stack` & `display` method returns `stack`. \n",
    "\n",
    "Use the `Stack` object provided in the `main` function to display the expected output."
   ]
  },
  {
   "cell_type": "code",
   "execution_count": null,
   "metadata": {},
   "outputs": [],
   "source": [
    "class Stack:\n",
    "    def __init__(self):\n",
    "        self.stack = []\n",
    "\n",
    "    def push(self, item):\n",
    "        pass\n",
    "\n",
    "    def pop(self):\n",
    "        pass\n",
    "\n",
    "    def peek(self):\n",
    "        pass\n",
    "    \n",
    "    def is_empty(self):\n",
    "        pass\n",
    "          \n",
    "    def size(self):\n",
    "        pass\n",
    "    \n",
    "    def display(self):\n",
    "        pass\n",
    "    \n",
    "def main():\n",
    "    stack = Stack()\n",
    "    stack.push('Introductory App Dev Concepts')\n",
    "    stack.push('Intermediate App Dev Concepts')\n",
    "    stack.push('Advanced App Dev Concepts')\n",
    "    \n",
    "    # Write your solution here\n",
    "\n",
    "if __name__ == '__main__':\n",
    "    main()\n",
    "    \n",
    "# Expected output:\n",
    "\n",
    "# ['Introductory App Dev Concepts', 'Intermediate App Dev Concepts']\n",
    "# Intermediate App Dev Concepts is at the top of the stack\n",
    "# There are 2 item(s) in the stack"
   ]
  },
  {
   "cell_type": "markdown",
   "metadata": {},
   "source": [
    "### Queue Class\n",
    "**Question 2:** Implement the `enqueue`, `dequeue`, `peek`, `is_empty`, `size` & `display` methods in the `Queue` class. `size` method returns the length of `queue` & `display` method returns `queue`. \n",
    "\n",
    "Use the `Queue` object provided in the `main` function to display the expected output."
   ]
  },
  {
   "cell_type": "code",
   "execution_count": null,
   "metadata": {},
   "outputs": [],
   "source": [
    "from collections import deque\n",
    "\n",
    "class Queue:\n",
    "    def __init__(self):\n",
    "        self.queue = deque([])\n",
    "\n",
    "    def enqueue(self, item):\n",
    "        pass\n",
    "\n",
    "    def dequeue(self):\n",
    "        pass\n",
    "\n",
    "    def peek(self):\n",
    "        pass\n",
    "    \n",
    "    def is_empty(self):\n",
    "        pass\n",
    "    \n",
    "    def size(self):\n",
    "        pass\n",
    "    \n",
    "    def display(self):\n",
    "        pass\n",
    "\n",
    "def main():\n",
    "    queue = Queue()\n",
    "    queue.enqueue('Introductory App Dev Concepts')\n",
    "    queue.enqueue('Intermediate App Dev Concepts')\n",
    "    queue.enqueue('Advanced App Dev Concepts')\n",
    "    \n",
    "    # Write your solution here\n",
    "\n",
    "if __name__ == '__main__':\n",
    "    main()\n",
    "    \n",
    "# Expected output:\n",
    "    \n",
    "# There are 3 item(s) in the queue\n",
    "# ['Intermediate App Dev Concepts', 'Advanced App Dev Concepts']"
   ]
  },
  {
   "cell_type": "markdown",
   "metadata": {},
   "source": [
    "## <ins>Homework</ins>\n",
    "\n",
    "### Stack Class\n",
    "**Question 3:** Use the `Stack` class above and the `input` function to reverse an input provided by a user.\n",
    "\n",
    "Resource: https://docs.python.org/3/library/functions.html#input"
   ]
  },
  {
   "cell_type": "code",
   "execution_count": null,
   "metadata": {},
   "outputs": [],
   "source": [
    "# Write your solution here"
   ]
  },
  {
   "cell_type": "markdown",
   "metadata": {},
   "source": [
    "### Queue Class\n",
    "**Question 4:** Research & show an example of the application of a queue using two stacks. Please comment your code as appropriate. It helps us understand your implementation."
   ]
  },
  {
   "cell_type": "code",
   "execution_count": null,
   "metadata": {},
   "outputs": [],
   "source": [
    "# Write your solution here"
   ]
  },
  {
   "cell_type": "markdown",
   "metadata": {},
   "source": [
    "### Circular Queue\n",
    "**Question 5:** Research & show an example of the application of a circular queue. Your implementation should prevent overwriting of data. Please comment your code as appropriate. It helps us understand your implementation."
   ]
  },
  {
   "cell_type": "code",
   "execution_count": null,
   "metadata": {},
   "outputs": [],
   "source": [
    "# Write your solution here"
   ]
  },
  {
   "cell_type": "markdown",
   "metadata": {},
   "source": [
    "# Submission\n",
    "Create a new pull request and assign **tclark** & **grayson-orr** to review your practical submission.\n",
    "\n",
    "**Note:** Please don't merge your own pull request."
   ]
  }
 ],
 "metadata": {
  "kernelspec": {
   "display_name": "Python 3",
   "language": "python",
   "name": "python3"
  },
  "language_info": {
   "codemirror_mode": {
    "name": "ipython",
    "version": 3
   },
   "file_extension": ".py",
   "mimetype": "text/x-python",
   "name": "python",
   "nbconvert_exporter": "python",
   "pygments_lexer": "ipython3",
   "version": "3.7.5"
  }
 },
 "nbformat": 4,
 "nbformat_minor": 4
}
