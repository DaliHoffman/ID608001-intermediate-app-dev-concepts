{
 "cells": [
  {
   "cell_type": "markdown",
   "metadata": {},
   "source": [
    "# Python 6: Concurrency & Parallelism"
   ]
  },
  {
   "cell_type": "markdown",
   "metadata": {},
   "source": [
    "### Slow Code"
   ]
  },
  {
   "cell_type": "code",
   "execution_count": null,
   "metadata": {},
   "outputs": [],
   "source": [
    "from time import sleep, time\n",
    "\n",
    "def slow(x):\n",
    "    sleep(10)\n",
    "    return x\n",
    "\n",
    "def do_tasks(num):\n",
    "    for n in range(num):\n",
    "        slow(n)\n",
    "\n",
    "do_tasks(5)"
   ]
  },
  {
   "cell_type": "markdown",
   "metadata": {},
   "source": [
    "### Concurrency with Multithreading"
   ]
  },
  {
   "cell_type": "code",
   "execution_count": null,
   "metadata": {},
   "outputs": [],
   "source": [
    "from time import sleep\n",
    "from concurrent.futures import ThreadPoolExecutor\n",
    "\n",
    "def slow(x):\n",
    "    sleep(10)\n",
    "    return x\n",
    "\n",
    "def do_threading_tasks(num):\n",
    "    tasks = list(range(num))\n",
    "    with ThreadPoolExecutor() as ex:\n",
    "        ex.map(slow, tasks)\n",
    "        \n",
    "do_threading_tasks(5)"
   ]
  },
  {
   "cell_type": "markdown",
   "metadata": {},
   "source": [
    "### Parallelism with Multiprocessing"
   ]
  },
  {
   "cell_type": "code",
   "execution_count": null,
   "metadata": {},
   "outputs": [],
   "source": [
    "from time import sleep\n",
    "from concurrent.futures import ProcessPoolExecutor\n",
    "\n",
    "def slow(x):\n",
    "    sleep(10)\n",
    "    return x\n",
    "\n",
    "def do_multiprocessing_tasks(num):\n",
    "    tasks = list(range(num))\n",
    "    with ProcessPoolExecutor() as ex:\n",
    "        ex.map(slow, tasks)\n",
    "\n",
    "do_multiprocessing_tasks(5)"
   ]
  },
  {
   "cell_type": "markdown",
   "metadata": {},
   "source": [
    "### Asyncio"
   ]
  },
  {
   "cell_type": "code",
   "execution_count": null,
   "metadata": {},
   "outputs": [],
   "source": [
    "import asyncio\n",
    "\n",
    "async def slow():\n",
    "    await asyncio.sleep(10)\n",
    "    return 0\n",
    "\n",
    "async def do_async_tasks(num):\n",
    "    tasks = []\n",
    "    for n in range(num):\n",
    "        tasks.append(slow(n))\n",
    "    await asyncio.gather(*tasks, return_exceptions=True)\n",
    "\n",
    "asyncio.run(do_async_tasks(10))"
   ]
  }
 ],
 "metadata": {
  "kernelspec": {
   "display_name": "Python 3",
   "language": "python",
   "name": "python3"
  },
  "language_info": {
   "codemirror_mode": {
    "name": "ipython",
    "version": 3
   },
   "file_extension": ".py",
   "mimetype": "text/x-python",
   "name": "python",
   "nbconvert_exporter": "python",
   "pygments_lexer": "ipython3",
   "version": "3.7.5"
  }
 },
 "nbformat": 4,
 "nbformat_minor": 2
}
