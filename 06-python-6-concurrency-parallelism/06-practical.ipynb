{
 "cells": [
  {
   "cell_type": "markdown",
   "metadata": {},
   "source": [
    "##### College of Engineering, Construction and Living Sciences<br>Bachelor of Information Technology<br>IN608: Intermediate Application Development Concepts<br>Level 6, Credits 15\n",
    "\n",
    "# Python 6: Concurrency & Parallelism\n",
    "\n",
    "In this practical, you will complete a series of tasks covering today's lecture.\n",
    "\n",
    "## <ins>Programming Activity</ins>\n",
    "\n",
    "### \n",
    "**Question 1:** "
   ]
  },
  {
   "cell_type": "code",
   "execution_count": null,
   "metadata": {},
   "outputs": [],
   "source": [
    "from IPython.core.display import display, HTML\n",
    "from random import choice\n",
    "from requests import get\n",
    "\n",
    "req = get('https://picsum.photos/v2/list?limit=10')\n",
    "download_urls = [url['download_url'] for url in req.json()]\n",
    "rand_img = choice(download_urls)\n",
    "\n",
    "print('\\n'.join(url for url in download_urls))\n",
    "\n",
    "display(HTML(f'<img src=\"{rand_img}\">'))"
   ]
  },
  {
   "cell_type": "markdown",
   "metadata": {},
   "source": [
    "## <ins>Homework</ins>\n",
    "\n",
    "### \n",
    "**Question :** "
   ]
  },
  {
   "cell_type": "code",
   "execution_count": null,
   "metadata": {},
   "outputs": [],
   "source": []
  },
  {
   "cell_type": "markdown",
   "metadata": {},
   "source": [
    "# Submission\n",
    "1. Create a new branch named **06-practical** within your practicals GitHub repository\n",
    "2. Create a new pull request and assign **tclark** & **grayson-orr** to review your practical submission\n",
    "\n",
    "**Note:** Please don't merge your own pull request."
   ]
  }
 ],
 "metadata": {
  "kernelspec": {
   "display_name": "Python 3",
   "language": "python",
   "name": "python3"
  },
  "language_info": {
   "codemirror_mode": {
    "name": "ipython",
    "version": 3
   },
   "file_extension": ".py",
   "mimetype": "text/x-python",
   "name": "python",
   "nbconvert_exporter": "python",
   "pygments_lexer": "ipython3",
   "version": "3.7.5"
  }
 },
 "nbformat": 4,
 "nbformat_minor": 2
}
