{
 "cells": [
  {
   "cell_type": "markdown",
   "metadata": {},
   "source": [
    "##### College of Engineering, Construction and Living Sciences<br>Bachelor of Information Technology<br>IN608: Intermediate Application Development Concepts<br>Level 6, Credits 15<br><br>Due Date: 10/08/2020\n",
    "\n",
    "# Python 6: Concurrency & Parallelism\n",
    "\n",
    "In this practical, you will complete a series of tasks covering today's lecture. This practical is worth 1% of the final mark for the IN608: Intermediate Application Development Concepts course.\n",
    "\n",
    "Before you start, in your practicals repository, create a new branch called **06-practical**.\n",
    "\n",
    "## <ins>Programming Activity</ins>\n",
    " \n",
    "**Question 1:** Answer the following questions:\n",
    "1. What is concurrency?\n",
    "2. What is the difference between CPU bound & I/O bound?\n",
    "3. What is a thread?\n",
    "4. When the following cell is executed, what is happening?\n",
    "5. The `Thread` object has three arguments. What are these arguments & their purpose?\n",
    "6. What does the `threading` function `start` do?\n",
    "7. What does the `threading` function `join` do?\n",
    "\n",
    "Resource - https://docs.python.org/3/library/threading.html"
   ]
  },
  {
   "cell_type": "code",
   "execution_count": null,
   "metadata": {},
   "outputs": [],
   "source": [
    "# Write your answers here\n",
    "\n",
    "# 1.\n",
    "# 2.\n",
    "# 3.\n",
    "# 4.\n",
    "# 5.\n",
    "# 6.\n",
    "# 7."
   ]
  },
  {
   "cell_type": "code",
   "execution_count": null,
   "metadata": {},
   "outputs": [],
   "source": [
    "from threading import Thread\n",
    "from time import perf_counter, sleep\n",
    "\n",
    "def sleeping(secs):\n",
    "    print(f'Going to sleep for {secs} second(s)')\n",
    "    sleep(secs)\n",
    "    print(f'Woke up after {secs} second(s)')\n",
    "\n",
    "def main():\n",
    "    start = perf_counter()\n",
    "\n",
    "    threads = [Thread(target=sleeping, args=[5], daemon=True) for _ in range(5)]\n",
    "\n",
    "    for t in threads:\n",
    "        t.start()\n",
    "\n",
    "    for t in threads:\n",
    "        t.join()\n",
    "\n",
    "    finish = perf_counter()\n",
    "    print(f'Process finished in {round(finish - start, 2)} second(s)')\n",
    "\n",
    "if __name__ == '__main__':\n",
    "    main()"
   ]
  },
  {
   "cell_type": "markdown",
   "metadata": {},
   "source": [
    "### Alertnative - ThreadPoolExecutor\n",
    "\n",
    "`concurrent.futures` `ThreadPoolExecutor` is an alternative to the `threading` module.\n",
    "\n",
    "Resource - https://docs.python.org/3/library/concurrent.futures.html"
   ]
  },
  {
   "cell_type": "code",
   "execution_count": null,
   "metadata": {},
   "outputs": [],
   "source": [
    "from concurrent.futures import ThreadPoolExecutor\n",
    "from time import perf_counter, sleep\n",
    "\n",
    "def sleeping(secs):\n",
    "    print(f'Going to sleep for {secs} second(s)')\n",
    "    sleep(secs)\n",
    "    return f'Woke up after {secs} second(s)'\n",
    "\n",
    "def main():\n",
    "    start = perf_counter()\n",
    "\n",
    "    with ThreadPoolExecutor() as executor:\n",
    "        secs = [_ for _ in reversed(range(1, 6))]\n",
    "        results = executor.map(sleeping, secs) \n",
    "        for r in results:\n",
    "            print(r)\n",
    "\n",
    "    finish = perf_counter()\n",
    "    print(f'Process finished in {round(finish - start, 2)} second(s)')\n",
    "\n",
    "if __name__ == '__main__':\n",
    "    main()"
   ]
  },
  {
   "cell_type": "markdown",
   "metadata": {},
   "source": [
    "## <ins>Homework</ins>\n",
    "\n",
    "### Threading & Picsum API\n",
    "\n",
    "**Question 2:** In this question, you will download 10 images from the **Picsum API** to your current directory. Currently, it takes eight seconds to download all 10 images, but with threading, it takes two seconds. Use the hints in the `main` method to download the 10 images."
   ]
  },
  {
   "cell_type": "code",
   "execution_count": null,
   "metadata": {},
   "outputs": [],
   "source": [
    "from concurrent.futures import ThreadPoolExecutor\n",
    "from requests import get\n",
    "from time import perf_counter\n",
    "\n",
    "def download_img(url):\n",
    "    img_bytes = get(url).content\n",
    "    img_name = ''.join(url.split('/')[4:])\n",
    "    img_name = f'{img_name}.jpg'\n",
    "    with open(img_name, 'wb') as f:\n",
    "        f.write(img_bytes)\n",
    "        print(f'{img_name} was downloaded.')\n",
    "\n",
    "def main():\n",
    "    start = perf_counter()\n",
    "    \n",
    "    req = get('https://picsum.photos/v2/list?limit=10')\n",
    "    download_urls = [url['download_url'] for url in req.json()]\n",
    "    \n",
    "    # Use a context manager with ThreadPoolExecutor() as executor\n",
    "        # Call the executor's map method - pass in a function & iterable\n",
    "\n",
    "    finish = perf_counter()\n",
    "    print(f'Process finished in {round(finish - start, 2)} second(s)')\n",
    "\n",
    "if __name__ == '__main__':\n",
    "    main()"
   ]
  },
  {
   "cell_type": "markdown",
   "metadata": {},
   "source": [
    "### Multi-Processing & Parallelism\n",
    "**Question 3:** Answer the following questions:\n",
    "1. What is parallelism?\n",
    "2. When the following cell is executed, what is happening?\n",
    "3. What does the `multiprocessing` function `start` do?\n",
    "4. What does the `multiprocessing` function `join` do?\n",
    "\n",
    "Resource - https://docs.python.org/3/library/multiprocessing.html "
   ]
  },
  {
   "cell_type": "code",
   "execution_count": null,
   "metadata": {},
   "outputs": [],
   "source": [
    "# Write your answers here\n",
    "\n",
    "# 1.\n",
    "# 2.\n",
    "# 3.\n",
    "# 4."
   ]
  },
  {
   "cell_type": "code",
   "execution_count": null,
   "metadata": {},
   "outputs": [],
   "source": [
    "from multiprocessing import Process\n",
    "from time import perf_counter, sleep\n",
    "\n",
    "def sleeping(secs):\n",
    "    print(f'Going to sleep for {secs} second(s)')\n",
    "    sleep(secs)\n",
    "    print(f'Woke up after {secs} second(s)')\n",
    "\n",
    "def main():\n",
    "    start = perf_counter()\n",
    "\n",
    "    processes = [Process(target=sleeping, args=[5]) for _ in range(5)]\n",
    "\n",
    "    for p in processes:\n",
    "        p.start()\n",
    "\n",
    "    for p in processes:\n",
    "        p.join()\n",
    "\n",
    "    finish = perf_counter()\n",
    "    print(f'Process finished in {round(finish - start, 2)} second(s)')\n",
    "\n",
    "if __name__ == '__main__':\n",
    "    main()"
   ]
  },
  {
   "cell_type": "markdown",
   "metadata": {},
   "source": [
    "### Alternative - ProcessPoolExecutor\n",
    "\n",
    "`concurrent.futures` `ProcessPoolExecutor` is an alternative to the `threading` module."
   ]
  },
  {
   "cell_type": "code",
   "execution_count": null,
   "metadata": {},
   "outputs": [],
   "source": [
    "from concurrent.futures import ProcessPoolExecutor\n",
    "from time import perf_counter, sleep\n",
    "\n",
    "def sleeping(secs):\n",
    "    print(f'Going to sleep for {secs} second(s)')\n",
    "    sleep(secs)\n",
    "    return f'Woke up after {secs} second(s)'\n",
    "\n",
    "def main():\n",
    "    start = perf_counter()\n",
    "\n",
    "    with ProcessPoolExecutor() as executor:\n",
    "        secs = [_ for _ in reversed(range(1, 6))]\n",
    "        results = executor.map(sleeping, secs)\n",
    "        for r in results:\n",
    "            print(r)\n",
    "\n",
    "    finish = perf_counter()\n",
    "    print(f'Process finished in {round(finish - start, 2)} second(s)')\n",
    "\n",
    "if __name__ == '__main__':\n",
    "    main()"
   ]
  },
  {
   "cell_type": "markdown",
   "metadata": {},
   "source": [
    "### Multi-Processing & Photo Filtering\n",
    "\n",
    "**Question 4:** \n",
    "1. In this question, you will apply an image filter to each downloaded image using multi-processing. Use the `glob` module to get all downloaded images in the current directory with the extension `.jpg`. Append these images to a list called `imgs`.\n",
    "2. Make a note of the process time. Refactor the code so that it is using `ThreadPoolExecutor` instead of `ProcessPoolExecutor`. Execute the code & compare the process time.\n",
    "\n",
    "Resource - https://docs.python.org/3/library/glob.html "
   ]
  },
  {
   "cell_type": "code",
   "execution_count": null,
   "metadata": {},
   "outputs": [],
   "source": [
    "from concurrent.futures import ProcessPoolExecutor\n",
    "from glob import glob\n",
    "from os import chdir\n",
    "from PIL import Image, ImageFilter\n",
    "from requests import get\n",
    "from time import perf_counter\n",
    "\n",
    "def filter_img(img_name):\n",
    "    img = Image.open(img_name)\n",
    "    img = img.filter(ImageFilter.GaussianBlur(15))\n",
    "    img.save(img_name)\n",
    "    print(f'{img_name} was processed.')\n",
    "\n",
    "def main():\n",
    "    start = perf_counter()\n",
    "\n",
    "    # Get all images in the current directory with the extension .jpg and append to a list\n",
    "\n",
    "    # Use a context manager with ProcessPoolExecutor() as executor\n",
    "        # Call the executor's map method - pass in a function & iterable\n",
    "\n",
    "    finish = perf_counter()\n",
    "    print(f'Process finished in {round(finish - start, 2)} second(s)')\n",
    "\n",
    "if __name__ == '__main__':\n",
    "    main()"
   ]
  },
  {
   "cell_type": "markdown",
   "metadata": {},
   "source": [
    "# Submission\n",
    "Create a new pull request and assign **tclark** & **grayson-orr** to review your submission\n",
    "\n",
    "**Note:** Please don't merge your own pull request."
   ]
  }
 ],
 "metadata": {
  "kernelspec": {
   "display_name": "Python 3",
   "language": "python",
   "name": "python3"
  },
  "language_info": {
   "codemirror_mode": {
    "name": "ipython",
    "version": 3
   },
   "file_extension": ".py",
   "mimetype": "text/x-python",
   "name": "python",
   "nbconvert_exporter": "python",
   "pygments_lexer": "ipython3",
   "version": "3.7.5"
  }
 },
 "nbformat": 4,
 "nbformat_minor": 2
}
