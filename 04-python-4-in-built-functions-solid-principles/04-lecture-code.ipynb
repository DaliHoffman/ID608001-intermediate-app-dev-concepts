{
 "cells": [
  {
   "cell_type": "markdown",
   "metadata": {},
   "source": [
    "# Python 4: In-Built Functions & SOLID\n",
    "\n",
    "### Enumerate"
   ]
  },
  {
   "cell_type": "code",
   "execution_count": null,
   "metadata": {},
   "outputs": [],
   "source": [
    "seasons = ['Summer', 'Autumn', 'Winter', 'Spring']\n",
    "seasons_enumerate = enumerate(seasons, 1)\n",
    "print(type(seasons_enumerate)) \n",
    "print(list(seasons_enumerate))"
   ]
  },
  {
   "cell_type": "markdown",
   "metadata": {},
   "source": [
    "### Reversed"
   ]
  },
  {
   "cell_type": "code",
   "execution_count": null,
   "metadata": {},
   "outputs": [],
   "source": [
    "seasons = ['Summer', 'Autumn', 'Winter', 'Spring']\n",
    "seasons_reversed = reversed(seasons)\n",
    "print(type(seasons_reversed))\n",
    "print(list(seasons_reversed))"
   ]
  },
  {
   "cell_type": "markdown",
   "metadata": {},
   "source": [
    "### Slice"
   ]
  },
  {
   "cell_type": "code",
   "execution_count": null,
   "metadata": {},
   "outputs": [],
   "source": [
    "nums = [x for x in range(1, 11)]\n",
    "start = slice(1)\n",
    "start_stop = slice(0, 5)\n",
    "start_stop_step = slice(0, 10, 2)\n",
    "neg_step = slice(None, None, -1)\n",
    "print(type(start))\n",
    "print(nums[start])\n",
    "print(nums[start_stop]) \n",
    "print(nums[start_stop_step])\n",
    "print(nums[neg_step])\n",
    "print('Hello World!'[neg_step])"
   ]
  },
  {
   "cell_type": "markdown",
   "metadata": {},
   "source": [
    "### Sorted"
   ]
  },
  {
   "cell_type": "code",
   "execution_count": null,
   "metadata": {},
   "outputs": [],
   "source": [
    "def occurrence(item):\n",
    "    return item.count('m')\n",
    "\n",
    "seasons = ['Summer', 'Autumn', 'Winter', 'Spring']\n",
    "seasons_sorted = sorted(seasons)\n",
    "seasons_sorted_key = sorted(seasons, key=occurrence)\n",
    "seasons_sorted_desc = sorted(seasons, reverse=True)\n",
    "print(type(seasons_sorted))\n",
    "print(seasons_sorted)\n",
    "print(seasons_sorted_key)\n",
    "print(seasons_sorted_desc)"
   ]
  },
  {
   "cell_type": "markdown",
   "metadata": {},
   "source": [
    "### Zip"
   ]
  },
  {
   "cell_type": "code",
   "execution_count": null,
   "metadata": {},
   "outputs": [],
   "source": [
    "first_names = ['Ari', 'Yunus', 'Ali']\n",
    "last_names = ['Molina', 'Rennie', 'Rocha']\n",
    "occupations = ['Professor', 'Associate Professor', 'Assistant Professor']\n",
    "people = zip(first_names, last_names, occupations)\n",
    "print(type(people)) \n",
    "print(list(people)) \n",
    "\n",
    "months = ['Jan', 'Feb', 'Mar', 'Apr']\n",
    "gross_per_month = [44611.00, 47976.00, 47535.00, 45383.00]\n",
    "cost_per_month = [46893.00, 43157.00, 41164.00, 40761.00]\n",
    "calculations = zip(months, gross_per_month, cost_per_month)\n",
    "for m, g, c in calculations:\n",
    "    net_profit = g - c\n",
    "    print(f'Profit for {m}: {net_profit}')"
   ]
  },
  {
   "cell_type": "markdown",
   "metadata": {},
   "source": [
    "### Single Responsibility Principle"
   ]
  },
  {
   "cell_type": "code",
   "execution_count": null,
   "metadata": {},
   "outputs": [],
   "source": []
  },
  {
   "cell_type": "markdown",
   "metadata": {},
   "source": [
    "### Open-Closed Principle"
   ]
  },
  {
   "cell_type": "code",
   "execution_count": null,
   "metadata": {},
   "outputs": [],
   "source": []
  },
  {
   "cell_type": "markdown",
   "metadata": {},
   "source": [
    "### Liskov Substitution Principle"
   ]
  },
  {
   "cell_type": "code",
   "execution_count": null,
   "metadata": {},
   "outputs": [],
   "source": []
  },
  {
   "cell_type": "markdown",
   "metadata": {},
   "source": [
    "### Interface Segregation Principle"
   ]
  },
  {
   "cell_type": "code",
   "execution_count": null,
   "metadata": {},
   "outputs": [],
   "source": []
  },
  {
   "cell_type": "markdown",
   "metadata": {},
   "source": [
    "### Dependency Inversion Principle"
   ]
  },
  {
   "cell_type": "code",
   "execution_count": null,
   "metadata": {},
   "outputs": [],
   "source": []
  }
 ],
 "metadata": {
  "kernelspec": {
   "display_name": "Python 3",
   "language": "python",
   "name": "python3"
  },
  "language_info": {
   "codemirror_mode": {
    "name": "ipython",
    "version": 3
   },
   "file_extension": ".py",
   "mimetype": "text/x-python",
   "name": "python",
   "nbconvert_exporter": "python",
   "pygments_lexer": "ipython3",
   "version": "3.7.5"
  }
 },
 "nbformat": 4,
 "nbformat_minor": 2
}
