{
 "cells": [
  {
   "cell_type": "markdown",
   "metadata": {},
   "source": [
    "##### College of Engineering, Construction and Living Sciences<br>Bachelor of Information Technology<br>IN608: Intermediate Application Development Concepts<br>Level 6, Credits 15\n",
    "\n",
    "# Python 4: In-Built Functions & SOLID\n",
    "\n",
    "In this practical, you will complete a series of tasks covering today's lecture.\n",
    "\n",
    "## <ins>Programming Activity</ins>\n",
    "\n",
    "### Enumerate\n",
    "**Question 1:** Use the `enumerate` function to display the expected output."
   ]
  },
  {
   "cell_type": "code",
   "execution_count": null,
   "metadata": {},
   "outputs": [],
   "source": [
    "rand_items = ['peg', 'plate', 'boot', 'charger', 'deodorant', 'eftpos card']\n",
    "\n",
    "# Write your solution here\n",
    "\n",
    "# Expected output:\n",
    "\n",
    "# Item 1: peg\n",
    "# Item 2: plate\n",
    "# Item 3: boot\n",
    "# Item 4: charger\n",
    "# Item 5: deodorant\n",
    "# Item 6: eftpos card"
   ]
  },
  {
   "cell_type": "markdown",
   "metadata": {},
   "source": [
    "### Reversed\n",
    "**Question 2:** Use the `reversed` function to display the expected output."
   ]
  },
  {
   "cell_type": "code",
   "execution_count": null,
   "metadata": {},
   "outputs": [],
   "source": [
    "sentence = 'My name is Jon Snow'\n",
    "\n",
    "# Write your solution here\n",
    "\n",
    "# Expected output:\n",
    "\n",
    "# ['Snow', 'Jon', 'is', 'name', 'My']"
   ]
  },
  {
   "cell_type": "markdown",
   "metadata": {},
   "source": [
    "### Slice\n",
    "**Question 3:** Use the `slice` function to display the expected output."
   ]
  },
  {
   "cell_type": "code",
   "execution_count": null,
   "metadata": {},
   "outputs": [],
   "source": [
    "alphabet = 'abcdefghijklmnopqrstuvwxyz'\n",
    "\n",
    "# Write your solution here\n",
    "\n",
    "# Expected output:\n",
    "\n",
    "# acegi"
   ]
  },
  {
   "cell_type": "markdown",
   "metadata": {},
   "source": [
    "### Sorted\n",
    "**Question 4:** Use the `sorted` function to display the expected output."
   ]
  },
  {
   "cell_type": "code",
   "execution_count": null,
   "metadata": {},
   "outputs": [],
   "source": [
    "sentence = 'This course is called Intermediate App Dev Concepts'\n",
    "\n",
    "# Write your solution here\n",
    "\n",
    "# Expected output:\n",
    "\n",
    "# ['is', 'course', 'called', 'This', 'Intermediate', 'Dev', 'Concepts', 'App']"
   ]
  },
  {
   "cell_type": "markdown",
   "metadata": {},
   "source": [
    "### Zip\n",
    "**Question 5:** Use the `zip` function to display the expected output."
   ]
  },
  {
   "cell_type": "code",
   "execution_count": null,
   "metadata": {},
   "outputs": [],
   "source": [
    "names = ['Georgina Ortega', 'Orla Mccoy', 'Rosa Sparks']\n",
    "nationalities = ['Canada', 'Germany', 'Sweeden']\n",
    "occupations = ['Accountant', 'Nurse']\n",
    "ages = [22, 33, 44]\n",
    "\n",
    "# Write your solution here\n",
    "\n",
    "# Expected output:\n",
    "\n",
    "# [('Georgina Ortega', 'Canada', 'Accountant', 22), ('Orla Mccoy', 'Germany', 'Nurse', 33)]"
   ]
  },
  {
   "cell_type": "markdown",
   "metadata": {},
   "source": [
    "## <ins>Homework</ins>\n",
    "\n",
    "### Enumerate\n",
    "**Question 6:** Use the solution from question 1 to display **only** the odd numbered items. "
   ]
  },
  {
   "cell_type": "code",
   "execution_count": null,
   "metadata": {},
   "outputs": [],
   "source": [
    "# Write your solution here\n",
    "\n",
    "# Expected output:\n",
    "\n",
    "# Item 1: peg\n",
    "# Item 3: boot\n",
    "# Item 5: deodorant"
   ]
  },
  {
   "cell_type": "markdown",
   "metadata": {},
   "source": [
    "### Slice\n",
    "**Question 7:** Use `slice` function & **only** the step argument to display the expected output."
   ]
  },
  {
   "cell_type": "code",
   "execution_count": null,
   "metadata": {},
   "outputs": [],
   "source": [
    "nums = [x * 10 for x in range(1, 11)]\n",
    "\n",
    "# Write your solution here\n",
    "\n",
    "# Expected output:\n",
    "\n",
    "# [100, 80, 60, 40, 20]"
   ]
  },
  {
   "cell_type": "markdown",
   "metadata": {},
   "source": [
    "### Zip\n",
    "**Question 8:** Use the solution from question 5 & the * (unpacking) operator to display the expected output."
   ]
  },
  {
   "cell_type": "code",
   "execution_count": null,
   "metadata": {},
   "outputs": [],
   "source": [
    "# Write your solution here\n",
    "\n",
    "# Expected output:\n",
    "\n",
    "# [('Georgina Ortega', 'Orla Mccoy'), ('Canada', 'Germany'), ('Accountant', 'Nurse'), (22, 33)]"
   ]
  },
  {
   "cell_type": "markdown",
   "metadata": {},
   "source": [
    "### Liskov Substitution Principle\n",
    "**Question 9:** Describe thoroughly why the square-rectangle problem breaks the Liskov substitution principle."
   ]
  },
  {
   "cell_type": "code",
   "execution_count": null,
   "metadata": {},
   "outputs": [],
   "source": [
    "# Write your explanation here"
   ]
  },
  {
   "cell_type": "markdown",
   "metadata": {},
   "source": [
    "# Submission\n",
    "1. Create a new branch named **04-practical** within your practicals GitHub repository\n",
    "2. Create a new pull request and assign **tclark** & **grayson-orr** to review your practical submission\n",
    "\n",
    "**Note:** Please don't merge your own pull request."
   ]
  }
 ],
 "metadata": {
  "kernelspec": {
   "display_name": "Python 3",
   "language": "python",
   "name": "python3"
  },
  "language_info": {
   "codemirror_mode": {
    "name": "ipython",
    "version": 3
   },
   "file_extension": ".py",
   "mimetype": "text/x-python",
   "name": "python",
   "nbconvert_exporter": "python",
   "pygments_lexer": "ipython3",
   "version": "3.7.5"
  }
 },
 "nbformat": 4,
 "nbformat_minor": 2
}
