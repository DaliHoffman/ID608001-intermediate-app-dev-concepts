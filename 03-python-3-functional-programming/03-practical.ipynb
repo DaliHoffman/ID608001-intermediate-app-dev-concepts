{
 "cells": [
  {
   "cell_type": "markdown",
   "metadata": {},
   "source": [
    "##### College of Engineering, Construction and Living Sciences<br>Bachelor of Information Technology<br>IN608: Intermediate Application Development Concepts<br>Level 6, Credits 15\n",
    "\n",
    "# Python 3: Functional Programming\n",
    "\n",
    "In this practical, you will complete a series of tasks covering today's lecture.\n",
    "\n",
    "## <ins>Programming Activity</ins>\n",
    "\n",
    "### List Comprehension\n",
    "**Question 1:** Consider the following 3x3 matrix (3 lists of length 3). Create a list comprehension which returns a transpose `matrix`. Use the list comprehension to display the expected output."
   ]
  },
  {
   "cell_type": "code",
   "execution_count": null,
   "metadata": {},
   "outputs": [],
   "source": [
    "matrix = [\n",
    "    [1, 2, 3],\n",
    "    [4, 5, 6,],\n",
    "    [7, 8, 9]\n",
    "]\n",
    "\n",
    "# Write your solution here\n",
    "\n",
    "# Expected output:\n",
    "\n",
    "# [[1, 4, 7], [2, 5, 8], [3, 6, 9]]"
   ]
  },
  {
   "cell_type": "markdown",
   "metadata": {},
   "source": [
    "### Set Comprehension\n",
    "**Question 2:** Create a set comprehension which returns the `breed` of dogs who are not `is_aggressive`. Use the set comprehension to display the expected output."
   ]
  },
  {
   "cell_type": "code",
   "execution_count": null,
   "metadata": {},
   "outputs": [],
   "source": [
    "class Dog:\n",
    "    def __init__(self, breed, is_aggressive):\n",
    "        self.breed = breed\n",
    "        self.is_aggressive = is_aggressive\n",
    "\n",
    "def main():\n",
    "    dogs = [\n",
    "        Dog('American Pit Bull Terrier', True),\n",
    "        Dog('Cavalier King Charles Spaniel', False),\n",
    "        Dog('Cavalier King Charles Spaniel', False),\n",
    "        Dog('Labrador Retriever', False),\n",
    "        Dog('Rottweiler', True),\n",
    "        Dog('Shih Tzu', False)\n",
    "    ]\n",
    "\n",
    "    # Write your solution here\n",
    "\n",
    "if __name__ == '__main__':\n",
    "    main()\n",
    "\n",
    "# Expect output:\n",
    "\n",
    "# {'Shih Tzu', 'Labrador Retriever', 'Cavalier King Charles Spaniel'}"
   ]
  },
  {
   "cell_type": "markdown",
   "metadata": {},
   "source": [
    "### Dictionary Comprehension\n",
    "**Question 3:** Convert the following into a dictionary comprehension. Use the dictionary comprehension to display the expected output."
   ]
  },
  {
   "cell_type": "code",
   "execution_count": null,
   "metadata": {},
   "outputs": [],
   "source": [
    "output = {}\n",
    "\n",
    "for n in range(1, 11):\n",
    "    if n % 2 == 0:\n",
    "        output[n] = n ** 2\n",
    "        \n",
    "print(output)\n",
    "\n",
    "# Write your solution here\n",
    "\n",
    "# Expected output:\n",
    "\n",
    "# {2: 4, 4: 16, 6: 36, 8: 64, 10: 100}"
   ]
  },
  {
   "cell_type": "markdown",
   "metadata": {},
   "source": [
    "## <ins>Homework</ins>\n",
    "\n",
    "### List Comprehension\n",
    "**Question 4:** Convert the following into a list comprehension. Use the list comprehension to display the expected output."
   ]
  },
  {
   "cell_type": "code",
   "execution_count": null,
   "metadata": {},
   "outputs": [],
   "source": [
    "nums_one = [1, 2, 3, 4, 5]\n",
    "nums_two = [6, 7, 8, 9, 10]\n",
    "output = []\n",
    "\n",
    "for n_one in nums_one:\n",
    "    for n_two in nums_two:\n",
    "        if n_one % 2 == 0 and n_two % 2 == 0:\n",
    "            output.append(tuple(n_one, n_two))\n",
    "\n",
    "# Write your solution here\n",
    "\n",
    "# Expected output:\n",
    "\n",
    "# [(2, 6), (2, 8), (2, 10), (4, 6), (4, 8), (4, 10)]"
   ]
  },
  {
   "cell_type": "markdown",
   "metadata": {},
   "source": [
    "### Set Comprehension\n",
    "**Question 5:** Consider the following proverb. Create a set comprehension which capitalizes a word if it contains the letter 'a'. Use the `capitalize` string method. Use the set comprehension to display the expected output."
   ]
  },
  {
   "cell_type": "code",
   "execution_count": null,
   "metadata": {},
   "outputs": [],
   "source": [
    "proverb = 'A journey of thousand miles begins with a single step'\n",
    "\n",
    "# Write your solution here\n",
    "\n",
    "# Expected output:\n",
    "\n",
    "# {'journey', 'single', 'A', 'with', 'step', 'of', 'Thousand', 'miles', 'begins'}"
   ]
  },
  {
   "cell_type": "markdown",
   "metadata": {},
   "source": [
    "### Dictionary Comprehension\n",
    "**Question 6:** Create a dictionary comprehension which converts each value in `fahrenheit` into celsius. Round each value to the nearest two decimal places using the `round` function. Use the dictionary comprehension to display the expected output."
   ]
  },
  {
   "cell_type": "code",
   "execution_count": null,
   "metadata": {},
   "outputs": [],
   "source": [
    "fahrenheit = {'temp_one': 65, 'temp_two': 45, 'temp_three': 25, 'temp_four': 5}\n",
    "\n",
    "# Write your solution here\n",
    "\n",
    "# Expected output:\n",
    "\n",
    "# {'temp_one': 18.33, 'temp_two': 7.22, 'temp_three': -3.89, 'temp_four': -15.0}"
   ]
  },
  {
   "cell_type": "markdown",
   "metadata": {},
   "source": [
    "### Lambda\n",
    "**Question 7:** Create a `lambda` function called `fahrenheit_to_celsius` which converts its argument to fahrenheit. Round the output to the nearest two demcial places using the `round` function."
   ]
  },
  {
   "cell_type": "code",
   "execution_count": null,
   "metadata": {},
   "outputs": [],
   "source": [
    "fahrenheit_to_celsius = # Write your solution here\n",
    "print(fahrenheit_to_celsius(18.33))\n",
    "\n",
    "# Expected output:\n",
    "\n",
    "# 64.99"
   ]
  },
  {
   "cell_type": "markdown",
   "metadata": {},
   "source": [
    "### Map\n",
    "**Question 8:** Using the `uuid4` function, generate a random UUID called `rand_uuid`. Use `rand_uuid`, `map` function & `lambda` function to return an uppercase `rand_uuid`. \n",
    "\n",
    "Note: your outputs will be different to what is shown below."
   ]
  },
  {
   "cell_type": "code",
   "execution_count": null,
   "metadata": {},
   "outputs": [],
   "source": [
    "from uuid import uuid4\n",
    "\n",
    "rand_uuid = # Write your solution here\n",
    "upper_rand_uuid = ''.join(map('''Write your lambda function here'''))\n",
    "print(f'Random UUID: {rand_uuid}')\n",
    "print(f'Uppercase random UUID: {upper_rand_uuid}')\n",
    "\n",
    "# Expected output:\n",
    "\n",
    "# Random UUID: 58a641f1-ac6a-4a5d-ab31-302af8b2dfc4\n",
    "# Uppercase random UUID: 58A641F1-AC6A-4A5D-AB31-302AF8B2DFC4"
   ]
  },
  {
   "cell_type": "markdown",
   "metadata": {},
   "source": [
    "### Filter\n",
    "**Question 9:** Using the `randrange` function, create a list comprehension called `exam_scores` which generates 10 numbers between 1 & 100. Use `exam_scores`, `filter` function & `lambda` function to return all items ≥ 80. \n",
    "\n",
    "Note: your outputs will be different to what is shown below."
   ]
  },
  {
   "cell_type": "code",
   "execution_count": null,
   "metadata": {},
   "outputs": [],
   "source": [
    "from random import randrange\n",
    "\n",
    "exam_scores = # Write your solution here\n",
    "a_grade_range_exam_scores = filter('''Write your lambda function here''')\n",
    "print(f'Exam scores: {exam_scores}')\n",
    "print(f'A grade range exam scores: {list(a_grade_range_exam_scores)}')\n",
    "\n",
    "# Expected output:\n",
    "\n",
    "# Exam scores: [52, 51, 82, 11, 16, 19, 10, 91, 59, 58]\n",
    "# A grade range exam scores: [82, 91]"
   ]
  },
  {
   "cell_type": "markdown",
   "metadata": {},
   "source": [
    "### Reduce\n",
    "**Question 10:** Using the `randrange` function, create a list comprehension called `rand_nums` which generates five numbers between 1 & 100. Use `rand_nums`, `reduce` function & `lambda` function to return the sum of `rand_nums`. \n",
    "\n",
    "Note: your outputs will be different to what is shown below."
   ]
  },
  {
   "cell_type": "code",
   "execution_count": null,
   "metadata": {},
   "outputs": [],
   "source": [
    "from functools import reduce\n",
    "from random import randrange\n",
    "\n",
    "rand_nums = # Write your solution here\n",
    "sum_rand_nums = reduce('''Write your lambda function here''')\n",
    "print(f'Random numbers: {rand_nums}')\n",
    "print(f'Sum of random numbers: {sum_rand_nums}') \n",
    "\n",
    "# Expected output:\n",
    "\n",
    "# Random numbers: [25, 65, 75, 9, 57]\n",
    "# Sum of random numbers: 231"
   ]
  },
  {
   "cell_type": "markdown",
   "metadata": {},
   "source": [
    "### Iterator\n",
    "**Question 11:** Implement the `iter` & `next` special methods in the `Sentence` iterator class. Use the `Sentence` object provided in the `main` function to display the expected output."
   ]
  },
  {
   "cell_type": "code",
   "execution_count": null,
   "metadata": {},
   "outputs": [],
   "source": [
    "class Sentence:\n",
    "    def __init__(self, sentence):\n",
    "        self.sentence = sentence\n",
    "        self.idx = 0\n",
    "        self.words = self.sentence.split()\n",
    "\n",
    "    def __iter__(self):\n",
    "        pass\n",
    "        \n",
    "    def __next__(self):            \n",
    "        # If idx is ≤ to the length of words\n",
    "            # Index into words using idx\n",
    "            # Increment idx by 1\n",
    "            # Return the result\n",
    "        # Else\n",
    "            # Raise the StopIteration exception\n",
    "\n",
    "def main():\n",
    "    sentence = Sentence('I was walking down the road and I saw...a donkey, Hee Haw!')\n",
    "    sentence_iter = iter(sentence)\n",
    "\n",
    "    # Write your solution here\n",
    "\n",
    "if __name__ == '__main__':\n",
    "    main()\n",
    "    \n",
    "# Expected output:\n",
    "\n",
    "# I\n",
    "# was\n",
    "# walking\n",
    "# down\n",
    "# the\n",
    "# road\n",
    "# and\n",
    "# I\n",
    "# saw...a\n",
    "# donkey,\n",
    "# Hee\n",
    "# Haw!\n",
    "# StopIteration:"
   ]
  },
  {
   "cell_type": "markdown",
   "metadata": {},
   "source": [
    "### Generator\n",
    "**Question 12:** Convert the following function `generate_people` into a generator. Use the generator to display the expected output. \n",
    "\n",
    "Note: your outputs will be different to what is shown below."
   ]
  },
  {
   "cell_type": "code",
   "execution_count": null,
   "metadata": {},
   "outputs": [],
   "source": [
    "from random import choice\n",
    "\n",
    "first_names = ['Chelsea', 'Janelle', 'Tre']\n",
    "last_names = ['Clarke', 'Day', 'Terry']\n",
    "nationalities = ['Australia', 'Canada', 'New Zealand']\n",
    "\n",
    "def generate_people():\n",
    "    people = []\n",
    "    for i in range(3):\n",
    "        info = {\n",
    "            'id': i,\n",
    "            'first_name': choice(first_names),\n",
    "            'last_names': choice(last_names),\n",
    "            'nationality': choice(nationalities)\n",
    "        }\n",
    "        people.append(info)\n",
    "    return people\n",
    "\n",
    "gen_people = generate_people()\n",
    "\n",
    "# Write your solution here\n",
    "\n",
    "# Expected output:\n",
    "\n",
    "# {'id': 0, 'first_name': 'Tre', 'last_names': 'Clarke', 'nationality': 'Australia'}\n",
    "# {'id': 1, 'first_name': 'Chelsea', 'last_names': 'Terry', 'nationality': 'New Zealand'}"
   ]
  },
  {
   "cell_type": "markdown",
   "metadata": {},
   "source": [
    "**Question 13:** Create a function called `fizz_buzz` which yields the numbers between 15 & 20. However, for numbers which are multiples of three, yield **Fizz**, for numbers which are multiples of five, yield **Buzz** & for numbers which are multiples of three & five, yield **FizzBuzz**. Use the `fizz_buzz` function to display the expected output."
   ]
  },
  {
   "cell_type": "code",
   "execution_count": null,
   "metadata": {},
   "outputs": [],
   "source": [
    "# Write your solution here\n",
    "\n",
    "# Expected output:\n",
    "\n",
    "# FizzBuzz\n",
    "# 16\n",
    "# 17\n",
    "# Fizz\n",
    "# 19\n",
    "# Buzz"
   ]
  },
  {
   "cell_type": "markdown",
   "metadata": {},
   "source": [
    "# Submission\n",
    "1. Create a new branch named **03-practical** within your practicals GitHub repository\n",
    "2. Create a new pull request and assign **tclark** & **grayson-orr** to review your practical submission\n",
    "\n",
    "**Note:** Please don't merge your own pull request."
   ]
  }
 ],
 "metadata": {
  "kernelspec": {
   "display_name": "Python 3",
   "language": "python",
   "name": "python3"
  },
  "language_info": {
   "codemirror_mode": {
    "name": "ipython",
    "version": 3
   },
   "file_extension": ".py",
   "mimetype": "text/x-python",
   "name": "python",
   "nbconvert_exporter": "python",
   "pygments_lexer": "ipython3",
   "version": "3.7.5"
  }
 },
 "nbformat": 4,
 "nbformat_minor": 2
}
