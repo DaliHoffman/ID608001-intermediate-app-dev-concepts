{
 "cells": [
  {
   "cell_type": "markdown",
   "metadata": {},
   "source": [
    "# Python 3: Functional Programming\n",
    "\n",
    "### List Comprehension"
   ]
  },
  {
   "cell_type": "code",
   "execution_count": null,
   "metadata": {},
   "outputs": [],
   "source": [
    "string = '123 Hi 456'\n",
    "numbers = []\n",
    "for s in string:\n",
    "    if s.isdigit():\n",
    "        numbers.append(int(s))\n",
    "print(numbers)\n",
    "\n",
    "string = '123 Hi 456'\n",
    "numbers = [int(s) for s in string if s.isdigit()]\n",
    "print(numbers)"
   ]
  },
  {
   "cell_type": "markdown",
   "metadata": {},
   "source": [
    "### Set Comprehension"
   ]
  },
  {
   "cell_type": "code",
   "execution_count": null,
   "metadata": {},
   "outputs": [],
   "source": [
    "class Cat:\n",
    "    def __init__(self, breed, is_active):\n",
    "        self.breed = breed\n",
    "        self.is_active = is_active\n",
    "\n",
    "def main():\n",
    "    cats = [\n",
    "        Cat('Birman', True),\n",
    "        Cat('Birman', True),\n",
    "        Cat('Maine Coon', False),\n",
    "        Cat('Persian', False),\n",
    "        Cat('Ragdoll', False),\n",
    "        Cat('Siamese', True)\n",
    "    ]\n",
    "    active_cats = {c.breed for c in cats if c.is_active}\n",
    "    print(active_cats)\n",
    "\n",
    "if __name__ == '__main__':\n",
    "    main()"
   ]
  },
  {
   "cell_type": "markdown",
   "metadata": {},
   "source": [
    "### Dictionary Comprehension"
   ]
  },
  {
   "cell_type": "code",
   "execution_count": null,
   "metadata": {},
   "outputs": [],
   "source": [
    "fruit_price = {'apple': 0.89, 'banana': 0.75, 'orange': 0.60, 'pineapple': 3.50}\n",
    "double_fruit_price = {}\n",
    "for (k, v) in fruit_price.items():\n",
    "    double_fruit_price[k] = v * 2\n",
    "print(double_fruit_price)\n",
    "\n",
    "fruit_price = {'apple': 0.89, 'banana': 0.75, 'orange': 0.60, 'pineapple': 3.50}\n",
    "double_fruit_price = {k: v * 2 for (k, v) in fruit_price.items()}\n",
    "print(double_fruit_price)"
   ]
  }
 ],
 "metadata": {
  "kernelspec": {
   "display_name": "Python 3",
   "language": "python",
   "name": "python3"
  },
  "language_info": {
   "codemirror_mode": {
    "name": "ipython",
    "version": 3
   },
   "file_extension": ".py",
   "mimetype": "text/x-python",
   "name": "python",
   "nbconvert_exporter": "python",
   "pygments_lexer": "ipython3",
   "version": "3.7.3"
  }
 },
 "nbformat": 4,
 "nbformat_minor": 2
}
