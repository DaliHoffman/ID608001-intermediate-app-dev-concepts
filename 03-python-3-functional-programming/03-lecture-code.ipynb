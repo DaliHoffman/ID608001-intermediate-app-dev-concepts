{
 "cells": [
  {
   "cell_type": "markdown",
   "metadata": {},
   "source": [
    "# Python 3: Functional Programming\n",
    "\n",
    "### List Comprehension"
   ]
  },
  {
   "cell_type": "code",
   "execution_count": null,
   "metadata": {},
   "outputs": [],
   "source": [
    "string = '123 Hi 456'\n",
    "nums = []\n",
    "for s in string:\n",
    "    if s.isdigit():\n",
    "        nums.append(int(s))\n",
    "print(nums)\n",
    "\n",
    "string = '123 Hi 456'\n",
    "nums = [int(s) for s in string if s.isdigit()]\n",
    "print(nums)"
   ]
  },
  {
   "cell_type": "markdown",
   "metadata": {},
   "source": [
    "### Set Comprehension"
   ]
  },
  {
   "cell_type": "code",
   "execution_count": null,
   "metadata": {},
   "outputs": [],
   "source": [
    "class Cat:\n",
    "    def __init__(self, breed, is_active):\n",
    "        self.breed = breed\n",
    "        self.is_active = is_active\n",
    "\n",
    "def main():\n",
    "    cats = [\n",
    "        Cat('Birman', True),\n",
    "        Cat('Birman', True),\n",
    "        Cat('Maine Coon', False),\n",
    "        Cat('Persian', False),\n",
    "        Cat('Ragdoll', False),\n",
    "        Cat('Siamese', True)\n",
    "    ]\n",
    "    active_cats = {c.breed for c in cats if c.is_active}\n",
    "    print(active_cats)\n",
    "\n",
    "if __name__ == '__main__':\n",
    "    main()"
   ]
  },
  {
   "cell_type": "markdown",
   "metadata": {},
   "source": [
    "### Dictionary Comprehension"
   ]
  },
  {
   "cell_type": "code",
   "execution_count": null,
   "metadata": {},
   "outputs": [],
   "source": [
    "fruit_price = {'apple': 0.89, 'banana': 0.75, 'orange': 0.60, 'pineapple': 3.50}\n",
    "double_fruit_price = {}\n",
    "for (k, v) in fruit_price.items():\n",
    "    double_fruit_price[k] = v * 2\n",
    "print(double_fruit_price)\n",
    "\n",
    "fruit_price = {'apple': 0.89, 'banana': 0.75, 'orange': 0.60, 'pineapple': 3.50}\n",
    "double_fruit_price = {k: v * 2 for (k, v) in fruit_price.items()}\n",
    "print(double_fruit_price)"
   ]
  },
  {
   "cell_type": "markdown",
   "metadata": {},
   "source": [
    "### Lambda"
   ]
  },
  {
   "cell_type": "code",
   "execution_count": null,
   "metadata": {},
   "outputs": [],
   "source": [
    "add = lambda x, y: x + y\n",
    "print(add(5, 5))"
   ]
  },
  {
   "cell_type": "markdown",
   "metadata": {},
   "source": [
    "### Map"
   ]
  },
  {
   "cell_type": "code",
   "execution_count": null,
   "metadata": {},
   "outputs": [],
   "source": [
    "def power_of_three(x):\n",
    "    return x ** 3\n",
    "\n",
    "power_of_three = lambda x: x ** 3\n",
    "\n",
    "nums = [x for x in range(1, 11)]\n",
    "pow_of_three_nums = map(power_of_three, nums)\n",
    "print(type(pow_of_three_nums))\n",
    "print(list(pow_of_three_nums))"
   ]
  },
  {
   "cell_type": "markdown",
   "metadata": {},
   "source": [
    "### Filter"
   ]
  },
  {
   "cell_type": "code",
   "execution_count": null,
   "metadata": {},
   "outputs": [],
   "source": [
    "def is_even(x):\n",
    "    return x % 2 == 0\n",
    "\n",
    "is_even = lambda x: x % 2 == 0\n",
    "\n",
    "nums = [x for x in range(1, 11)]\n",
    "even_nums = filter(is_even, nums)\n",
    "print(type(even_nums))\n",
    "print(list(even_nums))"
   ]
  },
  {
   "cell_type": "markdown",
   "metadata": {},
   "source": [
    "### Reduce"
   ]
  },
  {
   "cell_type": "code",
   "execution_count": null,
   "metadata": {},
   "outputs": [],
   "source": [
    "from functools import reduce\n",
    "\n",
    "def add(x, y):\n",
    "    return x + y\n",
    "\n",
    "add = lambda x, y: x + y\n",
    "\n",
    "nums = [x for x in range(1, 11)]\n",
    "sum_nums = reduce(add, nums)\n",
    "print(sum_nums)"
   ]
  },
  {
   "cell_type": "markdown",
   "metadata": {},
   "source": [
    "### Iterator"
   ]
  },
  {
   "cell_type": "code",
   "execution_count": null,
   "metadata": {},
   "outputs": [],
   "source": [
    "pow_of_three_nums = [x ** 3 for x in range(1, 6)]\n",
    "pow_of_three_iter = iter(pow_of_three_nums)\n",
    "print(type(pow_of_three_iter))\n",
    "print(next(pow_of_three_iter))\n",
    "print(next(pow_of_three_iter))\n",
    "print(next(pow_of_three_iter))\n",
    "print(next(pow_of_three_iter))\n",
    "print(next(pow_of_three_iter))\n",
    "print(next(pow_of_three_iter))"
   ]
  },
  {
   "cell_type": "code",
   "execution_count": null,
   "metadata": {},
   "outputs": [],
   "source": [
    "class PowerOfThree:\n",
    "    def __init__(self, min, max):\n",
    "        self.min = min\n",
    "        self.max = max\n",
    "\n",
    "    def __iter__(self):\n",
    "        return self\n",
    "\n",
    "    def __next__(self):\n",
    "        if self.min <= self.max:\n",
    "            result = self.min ** 3\n",
    "            self.min += 1\n",
    "            return result\n",
    "        else:\n",
    "            raise StopIteration\n",
    "\n",
    "def main():\n",
    "    pow_of_three = PowerOfThree(1, 5)\n",
    "    pow_of_three_iter = iter(pow_of_three)\n",
    "    print(next(pow_of_three_iter))\n",
    "    print(next(pow_of_three_iter))\n",
    "    print(next(pow_of_three_iter))\n",
    "    print(next(pow_of_three_iter))\n",
    "    print(next(pow_of_three_iter))\n",
    "    print(next(pow_of_three_iter))\n",
    "\n",
    "\n",
    "if __name__ == '__main__':\n",
    "    main()"
   ]
  },
  {
   "cell_type": "markdown",
   "metadata": {},
   "source": [
    "### Generator"
   ]
  },
  {
   "cell_type": "code",
   "execution_count": null,
   "metadata": {},
   "outputs": [],
   "source": [
    "def power_of_three(min, max):\n",
    "    while min <= max:\n",
    "        yield min ** 3\n",
    "        min += 1\n",
    "\n",
    "pow_of_three = power_of_three(1, 5)\n",
    "print(type(pow_of_three))\n",
    "print(next(pow_of_three))\n",
    "print(next(pow_of_three))\n",
    "print(next(pow_of_three))\n",
    "print(next(pow_of_three))\n",
    "print(next(pow_of_three))\n",
    "print(next(pow_of_three))"
   ]
  },
  {
   "cell_type": "code",
   "execution_count": null,
   "metadata": {},
   "outputs": [],
   "source": []
  }
 ],
 "metadata": {
  "kernelspec": {
   "display_name": "Python 3",
   "language": "python",
   "name": "python3"
  },
  "language_info": {
   "codemirror_mode": {
    "name": "ipython",
    "version": 3
   },
   "file_extension": ".py",
   "mimetype": "text/x-python",
   "name": "python",
   "nbconvert_exporter": "python",
   "pygments_lexer": "ipython3",
   "version": "3.7.3"
  }
 },
 "nbformat": 4,
 "nbformat_minor": 2
}
