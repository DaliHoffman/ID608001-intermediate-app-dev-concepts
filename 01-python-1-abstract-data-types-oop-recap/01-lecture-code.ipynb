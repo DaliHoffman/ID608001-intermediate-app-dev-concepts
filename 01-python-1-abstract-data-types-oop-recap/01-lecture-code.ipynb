{
 "cells": [
  {
   "cell_type": "markdown",
   "metadata": {},
   "source": [
    "# Python 1: Abstract Data Types & OOP Recap\n",
    "\n",
    "### List"
   ]
  },
  {
   "cell_type": "code",
   "execution_count": null,
   "metadata": {},
   "outputs": [],
   "source": [
    "nums = [1, 2, 3, 4, 5]\n",
    "hetero = [1, 'C#', True, 2, 'Java']\n",
    "print(type(nums))"
   ]
  },
  {
   "cell_type": "markdown",
   "metadata": {},
   "source": [
    "### Tuple"
   ]
  },
  {
   "cell_type": "code",
   "execution_count": null,
   "metadata": {},
   "outputs": [],
   "source": [
    "nums = (1, 2, 3, 4, 5)\n",
    "hetero = (1, 'C#', True, 2, 'Java')\n",
    "print(type(nums))"
   ]
  },
  {
   "cell_type": "markdown",
   "metadata": {},
   "source": [
    "### Set"
   ]
  },
  {
   "cell_type": "code",
   "execution_count": null,
   "metadata": {},
   "outputs": [],
   "source": [
    "nums = {1, 2, 3, 4, 4}\n",
    "hetero = {1, 'C#', True, 2, 2}\n",
    "print(type(nums))\n",
    "print(nums)\n",
    "print(hetero)"
   ]
  },
  {
   "cell_type": "markdown",
   "metadata": {},
   "source": [
    "### Dictionary"
   ]
  },
  {
   "cell_type": "code",
   "execution_count": null,
   "metadata": {},
   "outputs": [],
   "source": [
    "ig_user_one = {'username': 'john_doe', 'active': False, 'followers': 150}\n",
    "ig_user_two = {'username': 'jane_doe', 'active': True, 'followers': 500}\n",
    "print(type(ig_user_1))\n",
    "print(ig_user_one['username'])\n",
    "print(ig_user_two['followers'])"
   ]
  },
  {
   "cell_type": "markdown",
   "metadata": {},
   "source": [
    "### Access Modifiers - Public"
   ]
  },
  {
   "cell_type": "code",
   "execution_count": null,
   "metadata": {},
   "outputs": [],
   "source": [
    "class Cat:\n",
    "    def __init__(self, name, breed):\n",
    "        self.name = name\n",
    "        self.breed = breed\n",
    "    \n",
    "    def __str__(self):\n",
    "        return f'My {self.breed}\\'s name is {self.name}'\n",
    "\n",
    "def main():\n",
    "    persian = Cat('Tom', 'persian')\n",
    "    persian.name = 'Jerry'\n",
    "    print(persian)\n",
    "\n",
    "if __name__ == '__main__':\n",
    "    main()"
   ]
  },
  {
   "cell_type": "markdown",
   "metadata": {},
   "source": [
    "### Access Modifiers - Protected"
   ]
  },
  {
   "cell_type": "code",
   "execution_count": null,
   "metadata": {},
   "outputs": [],
   "source": [
    "class Cat:\n",
    "    def __init__(self, name, breed):\n",
    "        self._name = name\n",
    "        self._breed = breed\n",
    "    \n",
    "    def __str__(self):\n",
    "        return f'My {self._breed}\\'s name is {self._name}'\n",
    "\n",
    "def main():\n",
    "    persian = Cat('Tom', 'persian')\n",
    "    persian._name = 'Jerry'\n",
    "    print(persian)\n",
    "\n",
    "if __name__ == '__main__':\n",
    "    main()"
   ]
  },
  {
   "cell_type": "markdown",
   "metadata": {},
   "source": [
    "### Access Modifiers - Private"
   ]
  },
  {
   "cell_type": "code",
   "execution_count": null,
   "metadata": {},
   "outputs": [],
   "source": [
    "class Cat:\n",
    "    def __init__(self, name, breed):\n",
    "        self.__name = name\n",
    "        self.__breed = breed\n",
    "        \n",
    "    def __str__(self):\n",
    "        return f'My {self.__breed}\\'s name is {self.__name}'\n",
    "\n",
    "def main():\n",
    "    persian = Cat('Tom', 'persian')\n",
    "    persian._Cat__name = 'Jerry'\n",
    "    print(persian)\n",
    "\n",
    "if __name__ == '__main__':\n",
    "    main()"
   ]
  },
  {
   "cell_type": "markdown",
   "metadata": {},
   "source": [
    "### Encapsulation - @property Decorator"
   ]
  },
  {
   "cell_type": "code",
   "execution_count": null,
   "metadata": {},
   "outputs": [],
   "source": [
    "class Cat:\n",
    "    def __init__(self, name, breed):\n",
    "        self.__name = name\n",
    "        self.__breed = breed\n",
    "\n",
    "    @property\n",
    "    def name(self):\n",
    "        return self.__name\n",
    "\n",
    "    @property\n",
    "    def breed(self):\n",
    "        return self.__breed\n",
    "\n",
    "    @name.setter\n",
    "    def name(self, name):\n",
    "        self.__name = name\n",
    "        \n",
    "    def __str__(self):\n",
    "        return f'My {self.__breed}\\'s name is {self.__name}'\n",
    "\n",
    "def main():\n",
    "    persian = Cat('Tom', 'persian')\n",
    "    persian.name = 'Jerry'\n",
    "    print(persian)\n",
    "\n",
    "if __name__ == '__main__':\n",
    "    main()"
   ]
  },
  {
   "cell_type": "markdown",
   "metadata": {},
   "source": [
    "### Abstraction"
   ]
  },
  {
   "cell_type": "code",
   "execution_count": null,
   "metadata": {},
   "outputs": [],
   "source": [
    "from abc import ABC, abstractmethod\n",
    "\n",
    "class Payment(ABC):\n",
    "    def __init__(self, amount):\n",
    "        self.amount = amount\n",
    "\n",
    "    @abstractmethod\n",
    "    def payment(self):\n",
    "        pass\n",
    "\n",
    "class Eftpos(Payment):\n",
    "    def __init__(self, amount):\n",
    "        super().__init__(amount)\n",
    "\n",
    "    def payment(self):\n",
    "        return f'${self.amount} paid with eftpos'\n",
    "\n",
    "class Cash(Payment):\n",
    "    def __init__(self, amount):\n",
    "        super().__init__(amount)\n",
    "\n",
    "    def payment(self):\n",
    "        return f'${self.amount} paid with cash'\n",
    "\n",
    "def main():\n",
    "    eftpos = Eftpos(150)\n",
    "    cash = Cash(75)\n",
    "    print(eftpos.payment())\n",
    "    print(cash.payment())\n",
    "\n",
    "if __name__ == '__main__':\n",
    "    main()"
   ]
  },
  {
   "cell_type": "markdown",
   "metadata": {},
   "source": [
    "### Single Inheritance"
   ]
  },
  {
   "cell_type": "code",
   "execution_count": null,
   "metadata": {},
   "outputs": [],
   "source": [
    "class Employee:\n",
    "    def __init__(self, first_name, last_name, salary):\n",
    "        self.first_name = first_name\n",
    "        self.last_name = last_name\n",
    "        self.salary = salary\n",
    "        \n",
    "    def __str__(self):\n",
    "        return f'{self.first_name} {self.last_name}'\n",
    "\n",
    "class SoftwareDeveloper(Employee):\n",
    "    def __init__(self, first_name, last_name, salary, prog_lang):\n",
    "        super().__init__(first_name, last_name, salary)\n",
    "        self.prog_lang = prog_lang\n",
    "\n",
    "class ProductOwner(Employee):\n",
    "    def __init__(self, first_name, last_name, salary, employees):\n",
    "        super().__init__(first_name, last_name, salary)\n",
    "        self.employees = employees\n",
    "            \n",
    "    def show_employees(self):\n",
    "        for employee in self.employees:\n",
    "            print(employee)\n",
    "\n",
    "def main():\n",
    "    sft_dev_one = SoftwareDeveloper('Alfredo', 'Boyle', 50000, 'C#')\n",
    "    sft_dev_two = SoftwareDeveloper('Malik', 'Martin', 55000, 'JavaScript')\n",
    "    prdt_owr = ProductOwner('Lillian', 'Cunningham', 100000, [sft_dev_one, sft_dev_two])\n",
    "    prdt_owr.show_employees()\n",
    "    \n",
    "if __name__ == '__main__':\n",
    "    main()"
   ]
  },
  {
   "cell_type": "markdown",
   "metadata": {},
   "source": [
    "### Multiple Inheritance"
   ]
  },
  {
   "cell_type": "code",
   "execution_count": null,
   "metadata": {},
   "outputs": [],
   "source": [
    "class LexicalAnalysis:\n",
    "    def __init__(self, char_sequence):\n",
    "        self.token_sequence = char_sequence.split()\n",
    "\n",
    "class WordCount(LexicalAnalysis):\n",
    "    def __init__(self, char_sequence):\n",
    "        super().__init__(char_sequence)\n",
    "        self.word_count = len(self.token_sequence)\n",
    "\n",
    "class UniqueWords(LexicalAnalysis):\n",
    "    def __init__(self, char_sequence):\n",
    "        super().__init__(char_sequence)\n",
    "        self.unique_words = set(self.token_sequence)\n",
    "\n",
    "class SyntaxAnalysis(WordCount, UniqueWords):\n",
    "    def __init__(self, char_sequence):\n",
    "        super().__init__(char_sequence)\n",
    "\n",
    "def main():\n",
    "    syntax_analysis = SyntaxAnalysis('I was walking down the road and I saw...a donkey, Hee Haw!')\n",
    "    print(syntax_analysis.word_count)\n",
    "    print(syntax_analysis.unique_words)\n",
    "\n",
    "if __name__ == '__main__':\n",
    "    main() "
   ]
  },
  {
   "cell_type": "markdown",
   "metadata": {},
   "source": [
    "### Multi-Level Inheritance"
   ]
  },
  {
   "cell_type": "code",
   "execution_count": null,
   "metadata": {},
   "outputs": [],
   "source": [
    "class Rectangle:\n",
    "    def __init__(self, length, width):\n",
    "        self.length = length\n",
    "        self.width = width\n",
    "\n",
    "    def area(self):\n",
    "        return self.length * self.width\n",
    "\n",
    "    def perimeter(self):\n",
    "        return 2 * (self.length + self.width)\n",
    "\n",
    "class Square(Rectangle):\n",
    "    def __init__(self, length):\n",
    "        super().__init__(length, length)\n",
    "\n",
    "class Cube(Square):\n",
    "    def __init__(self, length):\n",
    "        super().__init__(length)\n",
    "\n",
    "    def surface_area(self):\n",
    "        return super().area() * 6\n",
    "\n",
    "    def volume(self):\n",
    "        return super().area() * self.length\n",
    "\n",
    "def main():\n",
    "    cube = Cube(4.5)\n",
    "    print(cube.surface_area())\n",
    "\n",
    "if __name__ == '__main__':\n",
    "    main()"
   ]
  },
  {
   "cell_type": "markdown",
   "metadata": {},
   "source": [
    "### Polymorphism - Subtyping"
   ]
  },
  {
   "cell_type": "code",
   "execution_count": null,
   "metadata": {},
   "outputs": [],
   "source": [
    "class Country:\n",
    "    def capital(self):\n",
    "        raise NotImplementedError\n",
    "\n",
    "class NewZealand(Country):\n",
    "    def capital(self):\n",
    "        return 'Wellington is the capital of New Zealand.'\n",
    "\n",
    "class Brazil(Country):\n",
    "    def capital(self):\n",
    "        return 'Brasilia is the capital of Brazil.'\n",
    "\n",
    "class Canada(Country):\n",
    "    pass\n",
    "\n",
    "def main():\n",
    "    nzl = NewZealand()\n",
    "    bra = Brazil()\n",
    "    can = Canada()\n",
    "    for country in (nzl, bra, can):\n",
    "        print(country.capital())\n",
    "\n",
    "if __name__ == '__main__':\n",
    "    main()"
   ]
  },
  {
   "cell_type": "markdown",
   "metadata": {},
   "source": [
    "### Polymorphism - Duck Typing "
   ]
  },
  {
   "cell_type": "code",
   "execution_count": null,
   "metadata": {},
   "outputs": [],
   "source": [
    "class NewZealand:\n",
    "    def capital(self):\n",
    "        return 'Wellington is the capital of New Zealand.'\n",
    "\n",
    "class Brazil:\n",
    "    def capital(self):\n",
    "        return 'Brasilia is the capital of Brazil.'\n",
    "    \n",
    "class Canada:\n",
    "    pass\n",
    "\n",
    "def main():\n",
    "    nzl = NewZealand()\n",
    "    bra = Brazil()\n",
    "    can = Canada()\n",
    "    for country in (nzl, bra, can):\n",
    "        print(country.capital())\n",
    "    \n",
    "if __name__ == '__main__':\n",
    "    main()"
   ]
  }
 ],
 "metadata": {
  "kernelspec": {
   "display_name": "Python 3",
   "language": "python",
   "name": "python3"
  },
  "language_info": {
   "codemirror_mode": {
    "name": "ipython",
    "version": 3
   },
   "file_extension": ".py",
   "mimetype": "text/x-python",
   "name": "python",
   "nbconvert_exporter": "python",
   "pygments_lexer": "ipython3",
   "version": "3.7.5"
  }
 },
 "nbformat": 4,
 "nbformat_minor": 2
}
